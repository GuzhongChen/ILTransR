{
 "cells": [
  {
   "cell_type": "code",
   "execution_count": 1,
   "metadata": {},
   "outputs": [
    {
     "name": "stderr",
     "output_type": "stream",
     "text": [
      "[03:20:28] ../src/storage/storage.cc:199: Using Pooled (Naive) StorageManager for CPU\n",
      "[03:20:30] ../src/storage/storage.cc:199: Using Pooled (Naive) StorageManager for GPU\n"
     ]
    }
   ],
   "source": [
    "import sys\n",
    "sys.path.append('..')\n",
    "from iltransr.models.il_smiles_only import*"
   ]
  },
  {
   "cell_type": "code",
   "execution_count": 2,
   "metadata": {
    "ExecuteTime": {
     "end_time": "2021-04-01T14:12:19.354210Z",
     "start_time": "2021-04-01T14:12:19.339210Z"
    }
   },
   "outputs": [],
   "source": [
    "cnn_dropout = 0.1\n",
    "batch_size = 64\n",
    "bucket_num, bucket_ratio = 2, 0"
   ]
  },
  {
   "cell_type": "code",
   "execution_count": 3,
   "metadata": {
    "ExecuteTime": {
     "end_time": "2021-04-01T14:12:19.386209Z",
     "start_time": "2021-04-01T14:12:19.371209Z"
    }
   },
   "outputs": [
    {
     "name": "stdout",
     "output_type": "stream",
     "text": [
      "ILNet(\n",
      "  (src_embed): HybridSequential(\n",
      "    (0): Embedding(72 -> 128, float32)\n",
      "    (1): Dropout(p = 0.0, axes=())\n",
      "  )\n",
      "  (encoder): TransformerEncoder(\n",
      "    (layer_norm): LayerNorm(eps=1e-05, axis=-1, center=True, scale=True, in_channels=128)\n",
      "    (transformer_cells): HybridSequential(\n",
      "      (0): TransformerEncoderCell(\n",
      "        (attention_cell): MultiHeadAttentionCell(\n",
      "          (_base_cell): DotProductAttentionCell(\n",
      "            (_dropout_layer): Dropout(p = 0, axes=())\n",
      "          )\n",
      "          (proj_query): Dense(128 -> 128, linear)\n",
      "          (proj_key): Dense(128 -> 128, linear)\n",
      "          (proj_value): Dense(128 -> 128, linear)\n",
      "        )\n",
      "        (proj): Dense(128 -> 128, linear)\n",
      "        (ffn): PositionwiseFFN(\n",
      "          (ffn_1): Dense(128 -> 1024, linear)\n",
      "          (activation): Activation(relu)\n",
      "          (ffn_2): Dense(1024 -> 128, linear)\n",
      "          (layer_norm): LayerNorm(eps=1e-05, axis=-1, center=True, scale=True, in_channels=128)\n",
      "        )\n",
      "        (layer_norm): LayerNorm(eps=1e-05, axis=-1, center=True, scale=True, in_channels=128)\n",
      "      )\n",
      "      (1): TransformerEncoderCell(\n",
      "        (attention_cell): MultiHeadAttentionCell(\n",
      "          (_base_cell): DotProductAttentionCell(\n",
      "            (_dropout_layer): Dropout(p = 0, axes=())\n",
      "          )\n",
      "          (proj_query): Dense(128 -> 128, linear)\n",
      "          (proj_key): Dense(128 -> 128, linear)\n",
      "          (proj_value): Dense(128 -> 128, linear)\n",
      "        )\n",
      "        (proj): Dense(128 -> 128, linear)\n",
      "        (ffn): PositionwiseFFN(\n",
      "          (ffn_1): Dense(128 -> 1024, linear)\n",
      "          (activation): Activation(relu)\n",
      "          (ffn_2): Dense(1024 -> 128, linear)\n",
      "          (layer_norm): LayerNorm(eps=1e-05, axis=-1, center=True, scale=True, in_channels=128)\n",
      "        )\n",
      "        (layer_norm): LayerNorm(eps=1e-05, axis=-1, center=True, scale=True, in_channels=128)\n",
      "      )\n",
      "      (2): TransformerEncoderCell(\n",
      "        (attention_cell): MultiHeadAttentionCell(\n",
      "          (_base_cell): DotProductAttentionCell(\n",
      "            (_dropout_layer): Dropout(p = 0, axes=())\n",
      "          )\n",
      "          (proj_query): Dense(128 -> 128, linear)\n",
      "          (proj_key): Dense(128 -> 128, linear)\n",
      "          (proj_value): Dense(128 -> 128, linear)\n",
      "        )\n",
      "        (proj): Dense(128 -> 128, linear)\n",
      "        (ffn): PositionwiseFFN(\n",
      "          (ffn_1): Dense(128 -> 1024, linear)\n",
      "          (activation): Activation(relu)\n",
      "          (ffn_2): Dense(1024 -> 128, linear)\n",
      "          (layer_norm): LayerNorm(eps=1e-05, axis=-1, center=True, scale=True, in_channels=128)\n",
      "        )\n",
      "        (layer_norm): LayerNorm(eps=1e-05, axis=-1, center=True, scale=True, in_channels=128)\n",
      "      )\n",
      "    )\n",
      "  )\n",
      "  (textcnn): ConvolutionalEncoder(\n",
      "    (_convs): HybridConcurrent(\n",
      "      (0): HybridSequential(\n",
      "        (0): Conv1D(128 -> 100, kernel_size=(1,), stride=(1,))\n",
      "        (1): HybridLambda(<lambda>)\n",
      "        (2): Activation(relu)\n",
      "      )\n",
      "      (1): HybridSequential(\n",
      "        (0): Conv1D(128 -> 200, kernel_size=(2,), stride=(1,))\n",
      "        (1): HybridLambda(<lambda>)\n",
      "        (2): Activation(relu)\n",
      "      )\n",
      "      (2): HybridSequential(\n",
      "        (0): Conv1D(128 -> 200, kernel_size=(3,), stride=(1,))\n",
      "        (1): HybridLambda(<lambda>)\n",
      "        (2): Activation(relu)\n",
      "      )\n",
      "      (3): HybridSequential(\n",
      "        (0): Conv1D(128 -> 200, kernel_size=(4,), stride=(1,))\n",
      "        (1): HybridLambda(<lambda>)\n",
      "        (2): Activation(relu)\n",
      "      )\n",
      "      (4): HybridSequential(\n",
      "        (0): Conv1D(128 -> 200, kernel_size=(5,), stride=(1,))\n",
      "        (1): HybridLambda(<lambda>)\n",
      "        (2): Activation(relu)\n",
      "      )\n",
      "      (5): HybridSequential(\n",
      "        (0): Conv1D(128 -> 100, kernel_size=(6,), stride=(1,))\n",
      "        (1): HybridLambda(<lambda>)\n",
      "        (2): Activation(relu)\n",
      "      )\n",
      "      (6): HybridSequential(\n",
      "        (0): Conv1D(128 -> 100, kernel_size=(7,), stride=(1,))\n",
      "        (1): HybridLambda(<lambda>)\n",
      "        (2): Activation(relu)\n",
      "      )\n",
      "      (7): HybridSequential(\n",
      "        (0): Conv1D(128 -> 100, kernel_size=(8,), stride=(1,))\n",
      "        (1): HybridLambda(<lambda>)\n",
      "        (2): Activation(relu)\n",
      "      )\n",
      "      (8): HybridSequential(\n",
      "        (0): Conv1D(128 -> 100, kernel_size=(9,), stride=(1,))\n",
      "        (1): HybridLambda(<lambda>)\n",
      "        (2): Activation(relu)\n",
      "      )\n",
      "      (9): HybridSequential(\n",
      "        (0): Conv1D(128 -> 100, kernel_size=(10,), stride=(1,))\n",
      "        (1): HybridLambda(<lambda>)\n",
      "        (2): Activation(relu)\n",
      "      )\n",
      "    )\n",
      "    (_highways): Highway(\n",
      "      (hnet): HybridSequential(\n",
      "        (0): Dense(1400 -> 2800, linear)\n",
      "      )\n",
      "      (_activation): Activation(relu)\n",
      "    )\n",
      "  )\n",
      "  (output): HybridSequential(\n",
      "    (0): Dense(None -> 512, linear)\n",
      "    (1): Dense(None -> 1, linear)\n",
      "  )\n",
      ")\n"
     ]
    }
   ],
   "source": [
    "net = ILNet(dropout=cnn_dropout)\n",
    "net.encoder = model.encoder\n",
    "net.src_embed =  model.src_embed\n",
    "net.hybridize()\n",
    "print(net)"
   ]
  },
  {
   "cell_type": "code",
   "execution_count": 4,
   "metadata": {
    "ExecuteTime": {
     "end_time": "2021-04-01T14:12:19.637210Z",
     "start_time": "2021-04-01T14:12:19.623210Z"
    }
   },
   "outputs": [],
   "source": [
    "save_dir = os.path.join(root_path,'iltransr/pre-trained params')"
   ]
  },
  {
   "cell_type": "code",
   "execution_count": 5,
   "metadata": {},
   "outputs": [],
   "source": [
    "def get_dataloader(train_dataset,train_smiles_lengths):\n",
    "\n",
    "    # Pad data, stack label and lengths\n",
    "    batchify_fn = nlp.data.batchify.Tuple(\n",
    "        nlp.data.batchify.Pad(axis=0, pad_val=0, ret_length=True),\n",
    "        nlp.data.batchify.Stack(dtype='float32'))\n",
    "    train_batch_sampler = nlp.data.sampler.FixedBucketSampler(\n",
    "        train_smiles_lengths,\n",
    "        batch_size=batch_size,\n",
    "        num_buckets=bucket_num,\n",
    "        ratio=bucket_ratio,\n",
    "        shuffle=True)\n",
    "\n",
    "    # Construct a DataLoader object for both the training and test data\n",
    "    train_dataloader = gluon.data.DataLoader(dataset=train_dataset,\n",
    "                                             batch_sampler=train_batch_sampler,\n",
    "                                             batchify_fn=batchify_fn)\n",
    "    return train_dataloader"
   ]
  },
  {
   "cell_type": "code",
   "execution_count": 6,
   "metadata": {
    "ExecuteTime": {
     "end_time": "2021-04-01T14:12:19.746208Z",
     "start_time": "2021-04-01T14:12:19.653210Z"
    }
   },
   "outputs": [],
   "source": [
    "import pandas as pd\n",
    "MP_database = pd.read_excel(os.path.join(root_path,'datasets/il properties/IL-TOX.xlsx'),sheet_name='TOX')"
   ]
  },
  {
   "cell_type": "code",
   "execution_count": 7,
   "metadata": {
    "ExecuteTime": {
     "end_time": "2021-04-01T14:12:19.936208Z",
     "start_time": "2021-04-01T14:12:19.747209Z"
    }
   },
   "outputs": [],
   "source": [
    "train_smiles = MP_database['IL SMILES'].map(canonical_smile).map(no_split).map(preprocess)\n",
    "train_smiles_lengths = MP_database['IL SMILES'].map(canonical_smile).map(no_split).map(get_length)\n",
    "train_MP =mx.nd.array(MP_database['Experimental logEC50'])\n",
    "train_dataset = gluon.data.SimpleDataset(gluon.data.ArrayDataset(train_smiles,train_MP))\n",
    "train_dataloader = get_dataloader(train_dataset,train_smiles_lengths)"
   ]
  },
  {
   "cell_type": "code",
   "execution_count": 8,
   "metadata": {
    "ExecuteTime": {
     "end_time": "2021-04-01T14:12:49.862210Z",
     "start_time": "2021-04-01T14:12:19.937210Z"
    }
   },
   "outputs": [
    {
     "name": "stderr",
     "output_type": "stream",
     "text": [
      "[03:20:34] ../src/operator/cudnn_ops.cc:292: Auto-tuning cuDNN op, set MXNET_CUDNN_AUTOTUNE_DEFAULT to 0 to disable\n",
      "[03:20:35] ../src/operator/cudnn_ops.cc:292: Auto-tuning cuDNN op, set MXNET_CUDNN_AUTOTUNE_DEFAULT to 0 to disable\n"
     ]
    },
    {
     "name": "stdout",
     "output_type": "stream",
     "text": [
      "[Epoch 0] train avg loss 1.68263, train avg r2 -2294.75,throughput 0.0305223K wps\n",
      "learning rate: 0.001\n",
      "[Epoch 1] train avg loss 1.31523, train avg r2 -38.9618,throughput 0.246075K wps\n",
      "learning rate: 0.001\n",
      "[Epoch 2] train avg loss 0.89065, train avg r2 -13.7407,throughput 4.62232K wps\n",
      "learning rate: 0.001\n",
      "[Epoch 3] train avg loss 0.725765, train avg r2 -10.2348,throughput 4.58165K wps\n",
      "learning rate: 0.001\n",
      "[Epoch 4] train avg loss 0.711949, train avg r2 -3.37014,throughput 4.68123K wps\n",
      "learning rate: 0.001\n",
      "[Epoch 5] train avg loss 0.441734, train avg r2 0.398643,throughput 4.63341K wps\n",
      "learning rate: 0.001\n",
      "[Epoch 6] train avg loss 0.383446, train avg r2 0.558341,throughput 4.82K wps\n",
      "learning rate: 0.001\n",
      "[Epoch 7] train avg loss 0.317612, train avg r2 0.733567,throughput 4.49558K wps\n",
      "learning rate: 0.001\n",
      "[Epoch 8] train avg loss 0.274351, train avg r2 0.781917,throughput 4.7132K wps\n",
      "learning rate: 0.001\n",
      "[Epoch 9] train avg loss 0.300262, train avg r2 0.768128,throughput 4.73487K wps\n",
      "learning rate: 0.001\n",
      "[Epoch 10] train avg loss 0.246165, train avg r2 0.85136,throughput 4.71049K wps\n",
      "learning rate: 0.0005\n",
      "[Epoch 11] train avg loss 0.199102, train avg r2 0.870488,throughput 4.50411K wps\n",
      "learning rate: 0.0005\n",
      "[Epoch 12] train avg loss 0.17343, train avg r2 0.909587,throughput 4.82193K wps\n",
      "learning rate: 0.0005\n",
      "[Epoch 13] train avg loss 0.165986, train avg r2 0.915386,throughput 1.33198K wps\n",
      "learning rate: 0.0005\n",
      "[Epoch 14] train avg loss 0.151307, train avg r2 0.927462,throughput 4.35537K wps\n",
      "learning rate: 0.0005\n",
      "[Epoch 15] train avg loss 0.13368, train avg r2 0.938148,throughput 4.66764K wps\n",
      "learning rate: 0.0005\n",
      "[Epoch 16] train avg loss 0.124186, train avg r2 0.94369,throughput 4.80259K wps\n",
      "learning rate: 0.0005\n",
      "[Epoch 17] train avg loss 0.122255, train avg r2 0.94565,throughput 4.87786K wps\n",
      "learning rate: 0.0005\n",
      "[Epoch 18] train avg loss 0.123049, train avg r2 0.946576,throughput 4.85657K wps\n",
      "learning rate: 0.0005\n",
      "[Epoch 19] train avg loss 0.138558, train avg r2 0.939267,throughput 4.83644K wps\n",
      "learning rate: 0.0005\n",
      "[Epoch 20] train avg loss 0.135018, train avg r2 0.944971,throughput 4.72562K wps\n",
      "learning rate: 0.00025\n",
      "[Epoch 21] train avg loss 0.114091, train avg r2 0.958979,throughput 4.80891K wps\n",
      "learning rate: 0.00025\n",
      "[Epoch 22] train avg loss 0.100994, train avg r2 0.957783,throughput 4.8194K wps\n",
      "learning rate: 0.00025\n",
      "[Epoch 23] train avg loss 0.0929663, train avg r2 0.963149,throughput 4.49972K wps\n",
      "learning rate: 0.00025\n",
      "[Epoch 24] train avg loss 0.0923402, train avg r2 0.960013,throughput 4.70886K wps\n",
      "learning rate: 0.00025\n",
      "[Epoch 25] train avg loss 0.0834223, train avg r2 0.965259,throughput 4.39051K wps\n",
      "learning rate: 0.00025\n",
      "[Epoch 26] train avg loss 0.0798583, train avg r2 0.967208,throughput 4.59905K wps\n",
      "learning rate: 0.00025\n",
      "[Epoch 27] train avg loss 0.0788367, train avg r2 0.966694,throughput 4.07455K wps\n",
      "learning rate: 0.00025\n",
      "[Epoch 28] train avg loss 0.0839746, train avg r2 0.968153,throughput 4.27778K wps\n",
      "learning rate: 0.00025\n",
      "[Epoch 29] train avg loss 0.0776426, train avg r2 0.973591,throughput 4.29753K wps\n",
      "learning rate: 0.00025\n"
     ]
    },
    {
     "ename": "KeyboardInterrupt",
     "evalue": "",
     "output_type": "error",
     "traceback": [
      "\u001b[0;31m---------------------------------------------------------------------------\u001b[0m",
      "\u001b[0;31mKeyboardInterrupt\u001b[0m                         Traceback (most recent call last)",
      "\u001b[1;32m/workspace/ILTransR/examples/tox_train.ipynb Cell 8\u001b[0m in \u001b[0;36m<cell line: 3>\u001b[0;34m()\u001b[0m\n\u001b[1;32m      <a href='vscode-notebook-cell://attached-container%2B7b22636f6e7461696e65724e616d65223a222f6d786e6574227d/workspace/ILTransR/examples/tox_train.ipynb#X13sdnNjb2RlLXJlbW90ZQ%3D%3D?line=0'>1</a>\u001b[0m epochs, learning_rate \u001b[39m=\u001b[39m \u001b[39m150\u001b[39m,\u001b[39m0.001\u001b[39m                                                                                                                                                                                                                                                                                                                                                                                                                                                                                                                                                                                                                                                                                                                                                                                                                                                                                                                                                                                                                                                                                                                                                                                                                                                                                                                                                            \n\u001b[1;32m      <a href='vscode-notebook-cell://attached-container%2B7b22636f6e7461696e65724e616d65223a222f6d786e6574227d/workspace/ILTransR/examples/tox_train.ipynb#X13sdnNjb2RlLXJlbW90ZQ%3D%3D?line=1'>2</a>\u001b[0m max_len \u001b[39m=\u001b[39m \u001b[39m100\u001b[39m\n\u001b[0;32m----> <a href='vscode-notebook-cell://attached-container%2B7b22636f6e7461696e65724e616d65223a222f6d786e6574227d/workspace/ILTransR/examples/tox_train.ipynb#X13sdnNjb2RlLXJlbW90ZQ%3D%3D?line=2'>3</a>\u001b[0m train(net, train_dataloader, batch_size, learning_rate, ctx, epochs)\n",
      "File \u001b[0;32m/workspace/ILTransR/examples/../iltransr/models/il_smiles_only.py:83\u001b[0m, in \u001b[0;36mtrain\u001b[0;34m(net, train_data, batch_size, learning_rate, context, epochs, log_interval, dev_data, fold)\u001b[0m\n\u001b[1;32m     81\u001b[0m epoch_sent_num \u001b[39m+\u001b[39m\u001b[39m=\u001b[39m label\u001b[39m.\u001b[39mshape[\u001b[39m0\u001b[39m]\n\u001b[1;32m     82\u001b[0m \u001b[39mwith\u001b[39;00m autograd\u001b[39m.\u001b[39mrecord():\n\u001b[0;32m---> 83\u001b[0m     output \u001b[39m=\u001b[39m net(data,length)\n\u001b[1;32m     84\u001b[0m     L \u001b[39m=\u001b[39m loss(output, label)\u001b[39m.\u001b[39msum()\n\u001b[1;32m     85\u001b[0m     r2 \u001b[39m=\u001b[39m get_r2(output,label)\n",
      "File \u001b[0;32m/opt/mxnet/python/mxnet/gluon/block.py:825\u001b[0m, in \u001b[0;36mBlock.__call__\u001b[0;34m(self, *args)\u001b[0m\n\u001b[1;32m    822\u001b[0m \u001b[39mfor\u001b[39;00m hook \u001b[39min\u001b[39;00m \u001b[39mself\u001b[39m\u001b[39m.\u001b[39m_forward_pre_hooks\u001b[39m.\u001b[39mvalues():\n\u001b[1;32m    823\u001b[0m     hook(\u001b[39mself\u001b[39m, args)\n\u001b[0;32m--> 825\u001b[0m out \u001b[39m=\u001b[39m \u001b[39mself\u001b[39;49m\u001b[39m.\u001b[39;49mforward(\u001b[39m*\u001b[39;49margs)\n\u001b[1;32m    827\u001b[0m \u001b[39mfor\u001b[39;00m hook \u001b[39min\u001b[39;00m \u001b[39mself\u001b[39m\u001b[39m.\u001b[39m_forward_hooks\u001b[39m.\u001b[39mvalues():\n\u001b[1;32m    828\u001b[0m     hook(\u001b[39mself\u001b[39m, args, out)\n",
      "File \u001b[0;32m/opt/mxnet/python/mxnet/gluon/block.py:1492\u001b[0m, in \u001b[0;36mHybridBlock.forward\u001b[0;34m(self, x, *args)\u001b[0m\n\u001b[1;32m   1486\u001b[0m         \u001b[39mraise\u001b[39;00m \u001b[39mValueError\u001b[39;00m(\u001b[39m'\u001b[39m\u001b[39mFind multiple contexts in the input, \u001b[39m\u001b[39m'\u001b[39m\n\u001b[1;32m   1487\u001b[0m                          \u001b[39m'\u001b[39m\u001b[39mAfter hybridized, the HybridBlock only supports one input \u001b[39m\u001b[39m'\u001b[39m\n\u001b[1;32m   1488\u001b[0m                          \u001b[39m'\u001b[39m\u001b[39mcontext. You can print the ele.ctx in the \u001b[39m\u001b[39m'\u001b[39m\n\u001b[1;32m   1489\u001b[0m                          \u001b[39m'\u001b[39m\u001b[39minput arguments to inspect their contexts. \u001b[39m\u001b[39m'\u001b[39m\n\u001b[1;32m   1490\u001b[0m                          \u001b[39m'\u001b[39m\u001b[39mFind all contexts = \u001b[39m\u001b[39m{}\u001b[39;00m\u001b[39m'\u001b[39m\u001b[39m.\u001b[39mformat(ctx_set))\n\u001b[1;32m   1491\u001b[0m     \u001b[39mwith\u001b[39;00m ctx:\n\u001b[0;32m-> 1492\u001b[0m         \u001b[39mreturn\u001b[39;00m \u001b[39mself\u001b[39;49m\u001b[39m.\u001b[39;49m_call_cached_op(x, \u001b[39m*\u001b[39;49margs)\n\u001b[1;32m   1493\u001b[0m \u001b[39mwith\u001b[39;00m ctx:\n\u001b[1;32m   1494\u001b[0m     \u001b[39mtry\u001b[39;00m:\n",
      "File \u001b[0;32m/opt/mxnet/python/mxnet/gluon/block.py:1233\u001b[0m, in \u001b[0;36mHybridBlock._call_cached_op\u001b[0;34m(self, *args)\u001b[0m\n\u001b[1;32m   1230\u001b[0m args_without_none \u001b[39m=\u001b[39m [ele \u001b[39mfor\u001b[39;00m ele \u001b[39min\u001b[39;00m args \u001b[39mif\u001b[39;00m ele \u001b[39mis\u001b[39;00m \u001b[39mnot\u001b[39;00m \u001b[39mNone\u001b[39;00m]\n\u001b[1;32m   1231\u001b[0m cargs \u001b[39m=\u001b[39m [args_without_none[i] \u001b[39mif\u001b[39;00m is_arg \u001b[39melse\u001b[39;00m i\u001b[39m.\u001b[39mdata()\n\u001b[1;32m   1232\u001b[0m          \u001b[39mfor\u001b[39;00m is_arg, i \u001b[39min\u001b[39;00m \u001b[39mself\u001b[39m\u001b[39m.\u001b[39m_cached_op_args]\n\u001b[0;32m-> 1233\u001b[0m out \u001b[39m=\u001b[39m \u001b[39mself\u001b[39;49m\u001b[39m.\u001b[39;49m_cached_op(\u001b[39m*\u001b[39;49mcargs)\n\u001b[1;32m   1234\u001b[0m \u001b[39mif\u001b[39;00m \u001b[39misinstance\u001b[39m(out, NDArray):\n\u001b[1;32m   1235\u001b[0m     out \u001b[39m=\u001b[39m [out]\n",
      "File \u001b[0;32m/opt/mxnet/python/mxnet/_ctypes/ndarray.py:148\u001b[0m, in \u001b[0;36mCachedOp.__call__\u001b[0;34m(self, *args, **kwargs)\u001b[0m\n\u001b[1;32m    144\u001b[0m \u001b[39m# return output stypes to avoid the c_api call for checking\u001b[39;00m\n\u001b[1;32m    145\u001b[0m \u001b[39m# a handle's stype in _ndarray_cls\u001b[39;00m\n\u001b[1;32m    146\u001b[0m out_stypes \u001b[39m=\u001b[39m ctypes\u001b[39m.\u001b[39mPOINTER(ctypes\u001b[39m.\u001b[39mc_int)()\n\u001b[0;32m--> 148\u001b[0m check_call(_LIB\u001b[39m.\u001b[39;49mMXInvokeCachedOpEx(\n\u001b[1;32m    149\u001b[0m     \u001b[39mself\u001b[39;49m\u001b[39m.\u001b[39;49mhandle,\n\u001b[1;32m    150\u001b[0m     ctypes\u001b[39m.\u001b[39;49mc_int(\u001b[39mlen\u001b[39;49m(args)),\n\u001b[1;32m    151\u001b[0m     c_handle_array(args),\n\u001b[1;32m    152\u001b[0m     ctypes\u001b[39m.\u001b[39;49mbyref(num_output),\n\u001b[1;32m    153\u001b[0m     ctypes\u001b[39m.\u001b[39;49mbyref(output_vars),\n\u001b[1;32m    154\u001b[0m     ctypes\u001b[39m.\u001b[39;49mbyref(out_stypes)))\n\u001b[1;32m    156\u001b[0m \u001b[39mif\u001b[39;00m original_output \u001b[39mis\u001b[39;00m \u001b[39mnot\u001b[39;00m \u001b[39mNone\u001b[39;00m:\n\u001b[1;32m    157\u001b[0m     \u001b[39mreturn\u001b[39;00m original_output\n",
      "\u001b[0;31mKeyboardInterrupt\u001b[0m: "
     ]
    }
   ],
   "source": [
    "epochs, learning_rate = 150,0.001                                                                                                                                                                                                                                                                                                                                                                                                                                                                                                                                                                                                                                                                                                                                                                                                                                                                                                                                                                                                                                                                                                                                                                                                                                                                                                                                                            \n",
    "max_len = 100\n",
    "train(net, train_dataloader, batch_size, learning_rate, ctx, epochs)"
   ]
  }
 ],
 "metadata": {
  "kernelspec": {
   "display_name": "Python 3.8.10 64-bit",
   "language": "python",
   "name": "python3"
  },
  "language_info": {
   "codemirror_mode": {
    "name": "ipython",
    "version": 3
   },
   "file_extension": ".py",
   "mimetype": "text/x-python",
   "name": "python",
   "nbconvert_exporter": "python",
   "pygments_lexer": "ipython3",
   "version": "3.8.10"
  },
  "latex_envs": {
   "LaTeX_envs_menu_present": true,
   "autoclose": false,
   "autocomplete": true,
   "bibliofile": "biblio.bib",
   "cite_by": "apalike",
   "current_citInitial": 1,
   "eqLabelWithNumbers": true,
   "eqNumInitial": 1,
   "hotkeys": {
    "equation": "Ctrl-E",
    "itemize": "Ctrl-I"
   },
   "labels_anchors": false,
   "latex_user_defs": false,
   "report_style_numbering": false,
   "user_envs_cfg": false
  },
  "toc": {
   "base_numbering": 1,
   "nav_menu": {},
   "number_sections": true,
   "sideBar": true,
   "skip_h1_title": false,
   "title_cell": "Table of Contents",
   "title_sidebar": "Contents",
   "toc_cell": false,
   "toc_position": {},
   "toc_section_display": true,
   "toc_window_display": false
  },
  "varInspector": {
   "cols": {
    "lenName": 16,
    "lenType": 16,
    "lenVar": 40
   },
   "kernels_config": {
    "python": {
     "delete_cmd_postfix": "",
     "delete_cmd_prefix": "del ",
     "library": "var_list.py",
     "varRefreshCmd": "print(var_dic_list())"
    },
    "r": {
     "delete_cmd_postfix": ") ",
     "delete_cmd_prefix": "rm(",
     "library": "var_list.r",
     "varRefreshCmd": "cat(var_dic_list()) "
    }
   },
   "types_to_exclude": [
    "module",
    "function",
    "builtin_function_or_method",
    "instance",
    "_Feature"
   ],
   "window_display": false
  },
  "vscode": {
   "interpreter": {
    "hash": "5b3ded1ccb95c1d9bd405e7b823d9e85424cde40fbb5985eb47e999ef50e15b4"
   }
  }
 },
 "nbformat": 4,
 "nbformat_minor": 4
}
